{
 "cells": [
  {
   "cell_type": "code",
   "execution_count": 1,
   "metadata": {},
   "outputs": [
    {
     "name": "stderr",
     "output_type": "stream",
     "text": [
      "Using TensorFlow backend.\n",
      "C:\\Users\\kzphy\\.conda\\envs\\ML\\lib\\site-packages\\sklearn\\externals\\joblib\\__init__.py:15: DeprecationWarning: sklearn.externals.joblib is deprecated in 0.21 and will be removed in 0.23. Please import this functionality directly from joblib, which can be installed with: pip install joblib. If this warning is raised when loading pickled models, you may need to re-serialize those models with scikit-learn 0.21+.\n",
      "  warnings.warn(msg, category=DeprecationWarning)\n"
     ]
    }
   ],
   "source": [
    "from sklearn import model_selection, preprocessing, linear_model, naive_bayes, metrics, svm\n",
    "from sklearn.feature_extraction.text import TfidfVectorizer, CountVectorizer\n",
    "from sklearn import decomposition, ensemble\n",
    "\n",
    "import pandas as pd \n",
    "import numpy, textblob, string, random\n",
    "from keras.preprocessing import text, sequence\n",
    "from keras import layers, models, optimizers\n",
    "\n",
    "from sklearn.externals import joblib"
   ]
  },
  {
   "cell_type": "code",
   "execution_count": 2,
   "metadata": {},
   "outputs": [],
   "source": [
    "path = 'G:/My Drive/NCSU/Hackathons/HackNC2019/HackNC2019/MyPueblo/backend/'\n",
    "original_df = pd.read_csv(path + 'data/categorize_transactions/train_data.csv')\n",
    "\n",
    "original_df.head()\n",
    "\n",
    "text= original_df['Description']"
   ]
  },
  {
   "cell_type": "code",
   "execution_count": 3,
   "metadata": {},
   "outputs": [],
   "source": [
    "encoder = preprocessing.LabelEncoder()\n",
    "final_y =  encoder.fit_transform(original_df['Category'])"
   ]
  },
  {
   "cell_type": "code",
   "execution_count": 4,
   "metadata": {},
   "outputs": [],
   "source": [
    "bank_df = pd.read_csv(path+'data/sample_user/bankstatement.csv')"
   ]
  },
  {
   "cell_type": "code",
   "execution_count": 5,
   "metadata": {},
   "outputs": [],
   "source": [
    "# create a count vectorizer object \n",
    "count_vect = CountVectorizer(analyzer='word', token_pattern=r'\\w{1,}')\n",
    "count_vect.fit(original_df['Description'])\n",
    "final_count = count_vect.transform(bank_df['Description'])\n",
    "filename = path + 'model/finalized_model.sav'\n",
    "\n",
    "final_NB_model = joblib.load(filename)\n",
    "NB_final_model_predictions = final_NB_model.predict(final_count)"
   ]
  },
  {
   "cell_type": "code",
   "execution_count": 6,
   "metadata": {},
   "outputs": [
    {
     "name": "stdout",
     "output_type": "stream",
     "text": [
      "[1 2 3 0 1 1 1 3 1 2 0 2 1 1 2 2 3 2 3 2 0 3 2 1 2 3 1 3 1 1 3 0 3 3 1 3 3\n",
      " 3 0 0 3 3 2 0 0 0 1 0 1 1 2 3 2 2 0 1 0 3 3 0 2 3 2 2 1 1 1 2 3 1 2 3 1 0\n",
      " 0 0 2 3 2 0 3 1 2 1 2 0 3 3 2 1 0 2 2 1 0 0 1 3 2 3 1]\n"
     ]
    }
   ],
   "source": [
    "print(NB_final_model_predictions)"
   ]
  },
  {
   "cell_type": "code",
   "execution_count": 7,
   "metadata": {},
   "outputs": [],
   "source": [
    "category_predictions = encoder.inverse_transform(NB_final_model_predictions)"
   ]
  },
  {
   "cell_type": "code",
   "execution_count": 8,
   "metadata": {},
   "outputs": [],
   "source": [
    "# cost = bank_df['Cost']\n",
    "bank_df['pred_categories']=category_predictions"
   ]
  },
  {
   "cell_type": "code",
   "execution_count": 9,
   "metadata": {},
   "outputs": [
    {
     "name": "stdout",
     "output_type": "stream",
     "text": [
      "{'rent', 'utilities', 'home repair', 'pest control'}\n"
     ]
    }
   ],
   "source": [
    "categories = set(category_predictions)\n",
    "print(categories)"
   ]
  },
  {
   "cell_type": "code",
   "execution_count": 10,
   "metadata": {},
   "outputs": [
    {
     "data": {
      "text/html": [
       "<div>\n",
       "<style scoped>\n",
       "    .dataframe tbody tr th:only-of-type {\n",
       "        vertical-align: middle;\n",
       "    }\n",
       "\n",
       "    .dataframe tbody tr th {\n",
       "        vertical-align: top;\n",
       "    }\n",
       "\n",
       "    .dataframe thead th {\n",
       "        text-align: right;\n",
       "    }\n",
       "</style>\n",
       "<table border=\"1\" class=\"dataframe\">\n",
       "  <thead>\n",
       "    <tr style=\"text-align: right;\">\n",
       "      <th></th>\n",
       "      <th>Description</th>\n",
       "      <th>Cost</th>\n",
       "      <th>pred_categories</th>\n",
       "    </tr>\n",
       "  </thead>\n",
       "  <tbody>\n",
       "    <tr>\n",
       "      <td>0</td>\n",
       "      <td>Urban Solutions</td>\n",
       "      <td>1921</td>\n",
       "      <td>pest control</td>\n",
       "    </tr>\n",
       "    <tr>\n",
       "      <td>1</td>\n",
       "      <td>Sumitomo Mitsui Financial Group</td>\n",
       "      <td>546</td>\n",
       "      <td>rent</td>\n",
       "    </tr>\n",
       "    <tr>\n",
       "      <td>2</td>\n",
       "      <td>Talquin Electric Cooperative</td>\n",
       "      <td>405</td>\n",
       "      <td>utilities</td>\n",
       "    </tr>\n",
       "    <tr>\n",
       "      <td>3</td>\n",
       "      <td>Big Crew Maintenance</td>\n",
       "      <td>686</td>\n",
       "      <td>home repair</td>\n",
       "    </tr>\n",
       "    <tr>\n",
       "      <td>4</td>\n",
       "      <td>Cavasa</td>\n",
       "      <td>1403</td>\n",
       "      <td>pest control</td>\n",
       "    </tr>\n",
       "  </tbody>\n",
       "</table>\n",
       "</div>"
      ],
      "text/plain": [
       "                       Description  Cost pred_categories\n",
       "0                  Urban Solutions  1921    pest control\n",
       "1  Sumitomo Mitsui Financial Group   546            rent\n",
       "2     Talquin Electric Cooperative   405       utilities\n",
       "3             Big Crew Maintenance   686     home repair\n",
       "4                           Cavasa  1403    pest control"
      ]
     },
     "execution_count": 10,
     "metadata": {},
     "output_type": "execute_result"
    }
   ],
   "source": [
    "bank_df.head()"
   ]
  },
  {
   "cell_type": "code",
   "execution_count": null,
   "metadata": {},
   "outputs": [],
   "source": []
  }
 ],
 "metadata": {
  "kernelspec": {
   "display_name": "Python 3",
   "language": "python",
   "name": "python3"
  },
  "language_info": {
   "codemirror_mode": {
    "name": "ipython",
    "version": 3
   },
   "file_extension": ".py",
   "mimetype": "text/x-python",
   "name": "python",
   "nbconvert_exporter": "python",
   "pygments_lexer": "ipython3",
   "version": "3.7.3"
  }
 },
 "nbformat": 4,
 "nbformat_minor": 2
}
