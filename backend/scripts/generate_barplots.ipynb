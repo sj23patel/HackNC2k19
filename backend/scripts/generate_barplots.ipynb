{
 "cells": [
  {
   "cell_type": "code",
   "execution_count": 36,
   "metadata": {},
   "outputs": [],
   "source": [
    "from sklearn import model_selection, preprocessing, linear_model, naive_bayes, metrics, svm\n",
    "from sklearn.feature_extraction.text import TfidfVectorizer, CountVectorizer\n",
    "from sklearn import decomposition, ensemble\n",
    "\n",
    "import pandas as pd \n",
    "import numpy, textblob, string, random\n",
    "from keras.preprocessing import text, sequence\n",
    "from keras import layers, models, optimizers\n",
    "\n",
    "from sklearn.externals import joblib\n",
    "import matplotlib.pyplot as plt; plt.rcdefaults()\n",
    "import matplotlib.ticker as mtick"
   ]
  },
  {
   "cell_type": "code",
   "execution_count": 11,
   "metadata": {},
   "outputs": [],
   "source": [
    "def predict_categories():\n",
    "    path = 'G:/My Drive/NCSU/Hackathons/HackNC2019/MyPueblo/backend/'\n",
    "    original_df = pd.read_csv(path + 'data/categorize_transactions/train_data.csv')\n",
    "    bank_df = pd.read_csv(path+'data/sample_user/bankstatement.csv')\n",
    "    \n",
    "    text= original_df['Description']\n",
    "    encoder = preprocessing.LabelEncoder()\n",
    "    final_y =  encoder.fit_transform(original_df['Category'])\n",
    "    \n",
    "    # create a count vectorizer object \n",
    "    count_vect = CountVectorizer(analyzer='word', token_pattern=r'\\w{1,}')\n",
    "    count_vect.fit(original_df['Description'])\n",
    "    final_count = count_vect.transform(bank_df['Description'])\n",
    "    filename = path + 'model/finalized_model.sav'\n",
    "\n",
    "    final_NB_model = joblib.load(filename)\n",
    "    NB_final_model_predictions = final_NB_model.predict(final_count)\n",
    "    category_predictions = encoder.inverse_transform(NB_final_model_predictions)\n",
    "    \n",
    "    # cost = bank_df['Cost']\n",
    "    bank_df['pred_categories']=category_predictions\n",
    "    return bank_df"
   ]
  },
  {
   "cell_type": "code",
   "execution_count": 12,
   "metadata": {},
   "outputs": [
    {
     "name": "stdout",
     "output_type": "stream",
     "text": [
      "                       Description  Cost pred_categories\n",
      "0                  Urban Solutions  1921    pest control\n",
      "1  Sumitomo Mitsui Financial Group   546            rent\n",
      "2     Talquin Electric Cooperative   405       utilities\n",
      "3             Big Crew Maintenance   686     home repair\n",
      "4                           Cavasa  1403    pest control\n"
     ]
    }
   ],
   "source": [
    "predicted_df = predict_categories()\n",
    "print(predicted_df.head())"
   ]
  },
  {
   "cell_type": "code",
   "execution_count": 21,
   "metadata": {},
   "outputs": [
    {
     "name": "stdout",
     "output_type": "stream",
     "text": [
      "25902\n"
     ]
    }
   ],
   "source": [
    "# filtered = predicted_df.loc[predicted_df['pred_categories'] == 'rent']\n",
    "# total_cost = sum(filtered['Cost'].values.tolist())\n",
    "# print(total_cost)"
   ]
  },
  {
   "cell_type": "code",
   "execution_count": 33,
   "metadata": {},
   "outputs": [
    {
     "name": "stdout",
     "output_type": "stream",
     "text": [
      "              total_cost\n",
      "category                \n",
      "utilities          28445\n",
      "pest control       34040\n",
      "rent               25902\n",
      "home repair        24832\n"
     ]
    }
   ],
   "source": [
    "def generate_total_df(df):\n",
    "    '''\n",
    "    Input is predicted df with pred_categories.\n",
    "    '''\n",
    "    cat_cost = []\n",
    "    categories = set(df['pred_categories'])\n",
    "    for i in categories:\n",
    "        filtered = df.loc[df['pred_categories'] == i]\n",
    "        total_cost = sum(filtered['Cost'].values.tolist())\n",
    "        cat_cost.append([i,total_cost])\n",
    "    new_df = pd.DataFrame(cat_cost, columns = ['category', 'total_cost'])\n",
    "    new_df = new_df.set_index('category')\n",
    "#     new_df = new_df.set_index(new_df.iloc[0].values)\n",
    "    return new_df\n",
    "\n",
    "total_df = generate_total_df(predicted_df)\n",
    "print(total_df)"
   ]
  },
  {
   "cell_type": "code",
   "execution_count": 50,
   "metadata": {},
   "outputs": [
    {
     "data": {
      "image/png": "[encoded data removed]",
      "text/plain": [
       "<Figure size 640x480 with 1 Axes>"
      ]
     },
     "metadata": {},
     "output_type": "display_data"
    }
   ],
   "source": [
    "ax = total_df.plot.bar(rot=0)\n",
    "fmt = '${x:,.0f}'\n",
    "tick = mtick.StrMethodFormatter(fmt)\n",
    "ax.yaxis.set_major_formatter(tick) \n",
    "\n",
    "plt.savefig('total_cost.png', dpi=1200)\n",
    "plt.show()"
   ]
  },
  {
   "cell_type": "code",
   "execution_count": null,
   "metadata": {},
   "outputs": [],
   "source": []
  }
 ],
 "metadata": {
  "kernelspec": {
   "display_name": "Python 3",
   "language": "python",
   "name": "python3"
  },
  "language_info": {
   "codemirror_mode": {
    "name": "ipython",
    "version": 3
   },
   "file_extension": ".py",
   "mimetype": "text/x-python",
   "name": "python",
   "nbconvert_exporter": "python",
   "pygments_lexer": "ipython3",
   "version": "3.7.3"
  }
 },
 "nbformat": 4,
 "nbformat_minor": 2
}
